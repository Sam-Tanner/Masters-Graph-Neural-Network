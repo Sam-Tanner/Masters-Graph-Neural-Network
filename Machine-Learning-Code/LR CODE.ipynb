{
 "cells": [
  {
   "cell_type": "markdown",
   "id": "c565914e",
   "metadata": {},
   "source": [
    "# GNN CODE "
   ]
  },
  {
   "cell_type": "markdown",
   "id": "1ee8c1fc",
   "metadata": {},
   "source": [
    "Installs:"
   ]
  },
  {
   "cell_type": "code",
   "execution_count": 1,
   "id": "2ee6636a",
   "metadata": {},
   "outputs": [],
   "source": [
    "#!pip install torch\n",
    "#!pip install torch_scatter\n",
    "#!pip install torch_sparse\n",
    "#!pip install torch_geometric\n",
    "#!pip install sklearn\n",
    "#!pip install networkx\n",
    "#!pip install metaknowledge\n",
    "#!pip install matplotlib"
   ]
  },
  {
   "cell_type": "markdown",
   "id": "12e4c3a5",
   "metadata": {},
   "source": [
    "Imports:"
   ]
  },
  {
   "cell_type": "code",
   "execution_count": 2,
   "id": "a38747cb",
   "metadata": {},
   "outputs": [],
   "source": [
    "import torch\n",
    "import torch.nn as nn\n",
    "import torch.nn.functional as F\n",
    "from torch_geometric.data import InMemoryDataset, Data\n",
    "import torch_geometric.transforms as T\n",
    "from torch_geometric.nn import GCNConv\n",
    "import pandas as pd\n",
    "import networkx as nx\n",
    "import numpy as np\n",
    "from sklearn.preprocessing import StandardScaler\n",
    "import metaknowledge as mk\n",
    "from sklearn.model_selection import StratifiedShuffleSplit\n",
    "from sklearn.model_selection import train_test_split\n",
    "import seaborn as sns\n",
    "from sklearn.utils import resample\n",
    "import matplotlib.pyplot as plt\n",
    "from sklearn.metrics import roc_curve\n",
    "from sklearn.metrics import roc_auc_score"
   ]
  },
  {
   "cell_type": "markdown",
   "id": "a54409c9",
   "metadata": {},
   "source": [
    "Data Import Functions:"
   ]
  },
  {
   "cell_type": "code",
   "execution_count": 3,
   "id": "d75f3ebe",
   "metadata": {},
   "outputs": [],
   "source": [
    "def network_import(file_txt):\n",
    "    #lists to hold outputs\n",
    "    networks = []\n",
    "    masks = []\n",
    "    \n",
    "    #creates core, non-core and mixed networks from .txt files\n",
    "    RC = mk.RecordCollection(file_txt)\n",
    "    network1 = RC.networkCitation(nodeType='full',coreOnly=True)\n",
    "    network1 = nx.Graph(network1)\n",
    "    network1 = network1.to_undirected()\n",
    "    c1 = list(network1.nodes)\n",
    "    \n",
    "    network2 = RC.networkCitation(nodeType='full',coreOnly=False)\n",
    "    network2 = nx.Graph(network2)\n",
    "    network2 = network2.to_undirected()\n",
    "\n",
    "    network3 = nx.compose(network1,network2)\n",
    "    \n",
    "    #creates sub-graphs from mixed network\n",
    "    sub_graphs = (network3.subgraph(c).copy() for c in nx.connected_components(network3))\n",
    "    \n",
    "    #loops for nodes in each subgraph\n",
    "    for idx,g in enumerate(sub_graphs,start=1):\n",
    "        \n",
    "        #creates initial variables for an index list and mask\n",
    "        index=[]\n",
    "        mask = torch.zeros(g.number_of_nodes(), dtype=torch.bool)\n",
    "        \n",
    "        #only uses if sub-graphs above a size of 1000 nodes\n",
    "        if len(g.nodes())>1000:\n",
    "            c2 = list(g.nodes)\n",
    "            #print(c2)\n",
    "            \n",
    "            #loops for mixed nodes\n",
    "            for i in range(0,len(c2)):\n",
    "                \n",
    "                #loops for all core nodes\n",
    "                for nodes2 in c1:\n",
    "                    \n",
    "                    #records index of core node in mixed network\n",
    "                    if c2[i]==nodes2:\n",
    "                        index.append(i)\n",
    "                        \n",
    "            #creates mask using index of core nodes\n",
    "            mask[index] = True\n",
    "            #adds network and mask to list\n",
    "            networks.append(g)\n",
    "            masks.append(mask)\n",
    "    #outputs list of networks and masks\n",
    "    return networks, masks\n",
    "\n",
    "def panda_import(file_csv):\n",
    "    #reads file as dataframe, drops duplicates and resets index as needed\n",
    "    panda = pd.read_csv(file_csv)\n",
    "    panda.drop_duplicates()\n",
    "    panda.reset_index()\n",
    "    return panda"
   ]
  },
  {
   "cell_type": "markdown",
   "id": "ba9dfb01",
   "metadata": {},
   "source": [
    "Data Setup Function:"
   ]
  },
  {
   "cell_type": "code",
   "execution_count": 4,
   "id": "bb452fe4",
   "metadata": {},
   "outputs": [],
   "source": [
    "scaler = StandardScaler()\n",
    "def data_setup(G,df):\n",
    "    \n",
    "    #creates edge index from network\n",
    "    adj = nx.to_scipy_sparse_matrix(G).tocoo()\n",
    "    row = torch.from_numpy(adj.row.astype(np.int64)).to(torch.long)\n",
    "    col = torch.from_numpy(adj.col.astype(np.int64)).to(torch.long)\n",
    "    edge_index = torch.stack([row, col], dim=0)\n",
    "    \n",
    "    #creates labels from dataframe\n",
    "    labels = ((df['FR'].to_numpy()).astype(np.compat.long))\n",
    "    \n",
    "    #scales imported centralities of nodes\n",
    "    df[['DC','EC','LC','BC','CC']] = scaler.fit_transform(df[['DC','EC','LC','BC','CC']])\n",
    "\n",
    "    #reformats dataframe as numpy array\n",
    "    embeddings = ((df[['DC','EC','LC','BC','CC']]).to_numpy().astype(np.float64))\n",
    "\n",
    "    #returns variables\n",
    "    return labels,edge_index,embeddings,G"
   ]
  },
  {
   "cell_type": "markdown",
   "id": "29c943d4",
   "metadata": {},
   "source": [
    "Dataset Class:"
   ]
  },
  {
   "cell_type": "code",
   "execution_count": 5,
   "id": "dc9b0d30",
   "metadata": {},
   "outputs": [],
   "source": [
    "#defines custom data class\n",
    "class GNNDataset(InMemoryDataset):\n",
    "    def __init__(self, Mask, transform=None):\n",
    "        super(GNNDataset, self).__init__('.', transform, None, None)\n",
    "\n",
    "        # edge index\n",
    "        data = Data(edge_index=edge_index)\n",
    "        \n",
    "        # number of nodes\n",
    "        data.num_nodes = G.number_of_nodes()\n",
    "        \n",
    "        # embedding data\n",
    "        data.x = torch.from_numpy(embeddings.copy()).type(torch.float32)\n",
    "        \n",
    "        data.num_features  = np.size(embeddings, 1)\n",
    "        \n",
    "        # labels\n",
    "        y = torch.from_numpy(labels.copy()).type(torch.long)\n",
    "        data.y = y.clone().detach()\n",
    "        \n",
    "        # core node mask\n",
    "        data['mask'] = Mask\n",
    "        \n",
    "        # class data\n",
    "        data.num_classes = 2\n",
    "\n",
    "        self.data, self.slices = self.collate([data])\n",
    "\n",
    "    def _download(self):\n",
    "        return\n",
    "\n",
    "    def _process(self):\n",
    "        return\n",
    "\n",
    "    def __repr__(self):\n",
    "        return '{}()'.format(self.__class__.__name__)"
   ]
  },
  {
   "cell_type": "markdown",
   "id": "227ccf24",
   "metadata": {},
   "source": [
    "Creating Dataset:"
   ]
  },
  {
   "cell_type": "code",
   "execution_count": 6,
   "id": "90c60f1c",
   "metadata": {
    "scrolled": false
   },
   "outputs": [],
   "source": [
    "#imports dataset\n",
    "JOPCS, JOPCS_Masks = network_import(\"JOPCS_t.txt\")\n",
    "AMM, AMM_Masks = network_import(\"AMM_t.txt\")\n",
    "IJEEEE, IJEEEE_Masks = network_import(\"IJEEEE_t.txt\")\n",
    "JMS, JMS_Masks = network_import(\"JMS_t.txt\") \n",
    "\n",
    "#ensures imports correctly due to multiple subgraphs in one dataset\n",
    "c=0\n",
    "if len(list(JOPCS[0].nodes))!= 4883:\n",
    "    c=1\n",
    "while c==1:\n",
    "    #print(c,len(list(JOPCS[0].nodes)),len(list(JOPCS[1].nodes)))\n",
    "    temp1 = JOPCS.copy()\n",
    "    JOPCS[0]=temp1[1]\n",
    "    JOPCS[1]=temp1[0]\n",
    "    \n",
    "    temp2 = JOPCS_Masks.copy()\n",
    "    JOPCS_Masks[0]=temp2[1]\n",
    "    JOPCS_Masks[1]=temp2[0]\n",
    "    \n",
    "    if len(list(JOPCS[0].nodes)) == 4883:\n",
    "        c=0\n",
    "\n",
    "#creates and orders dataset variable\n",
    "JOPCS1 = panda_import('JOPCS_Cent_1.csv')\n",
    "JOPCS1.ND = JOPCS1.ND.astype(\"category\")\n",
    "JOPCS1.ND.cat.set_categories([' Filler1']+list(JOPCS[0].nodes), inplace=True)\n",
    "#print(JOPCS1['ND']) \n",
    "JOPCS1 = JOPCS1.sort_values([\"ND\"], ignore_index=True)\n",
    "#print(JOPCS1['ND'])\n",
    "JOPCS1.reset_index()\n",
    "\n",
    "#creates and orders dataset variable\n",
    "JOPCS2 = panda_import('JOPCS_Cent_2.csv')\n",
    "JOPCS2.ND = JOPCS2.ND.astype(\"category\")\n",
    "JOPCS2.ND.cat.set_categories([' Filler2']+list(JOPCS[1].nodes), inplace=True)\n",
    "#print(JOPCS2['ND'])\n",
    "JOPCS2 = JOPCS2.sort_values([\"ND\"], ignore_index=True)\n",
    "#print(JOPCS2['ND'])\n",
    "JOPCS2.reset_index()\n",
    "\n",
    "#creates and orders dataset variable\n",
    "AMM1 = panda_import('AMM_Cent_1.csv')\n",
    "AMM1.ND = AMM1.ND.astype(\"category\")\n",
    "AMM1.ND.cat.set_categories([' Filler3']+list(AMM[0].nodes), inplace=True)\n",
    "#print(AMM1['ND'])\n",
    "AMM1 = AMM1.sort_values([\"ND\"], ignore_index=True)\n",
    "#print(AMM1['ND'])\n",
    "AMM1.reset_index()\n",
    "\n",
    "#creates and orders dataset variable\n",
    "IJEEEE1 = panda_import('IJEEEE_Cent_1.csv')\n",
    "IJEEEE1.ND = IJEEEE1.ND.astype(\"category\")\n",
    "IJEEEE1.ND.cat.set_categories([' Filler4']+list(IJEEEE[0].nodes), inplace=True)\n",
    "#print(IJEEEE1['ND'])\n",
    "IJEEEE1 = IJEEEE1.sort_values([\"ND\"], ignore_index=True)\n",
    "#print(IJEEEE1['ND'])\n",
    "IJEEEE1.reset_index()\n",
    "\n",
    "#creates and orders dataset variable\n",
    "JMS1 = panda_import('JMS_Cent_1.csv')\n",
    "JMS1.ND = JMS1.ND.astype(\"category\")\n",
    "JMS1.ND.cat.set_categories([' Filler5']+list(JMS[0].nodes), inplace=True)\n",
    "#print(JMS1['ND'])\n",
    "JMS1 = JMS1.sort_values([\"ND\"], ignore_index=True)\n",
    "#print(JMS1['ND'])axis=0,ignore_index=Tru\n",
    "JMS1.reset_index()\n",
    "\n",
    "#merges masks\n",
    "Mask = torch.cat((JOPCS_Masks[0],JOPCS_Masks[1],AMM_Masks[0],IJEEEE_Masks[0],JMS_Masks[0]))\n",
    "\n",
    "#merges datasets\n",
    "Node_Data = pd.concat([JOPCS1,JOPCS2,AMM1,IJEEEE1,JMS1],axis=0,ignore_index=True)\n",
    "\n",
    "#merges networks\n",
    "G = nx.disjoint_union(JOPCS[0],JOPCS[1])\n",
    "G = nx.disjoint_union(G,AMM[0])\n",
    "G = nx.disjoint_union(G,IJEEEE[0])\n",
    "G = nx.disjoint_union(G,JMS[0])\n",
    "\n",
    "#sets up data and creates custom dataset\n",
    "labels,edge_index,embeddings,G = data_setup(G,Node_Data)\n",
    "Dataset = GNNDataset(Mask)\n"
   ]
  },
  {
   "cell_type": "markdown",
   "id": "752e59a6",
   "metadata": {},
   "source": [
    "Resampling Data:"
   ]
  },
  {
   "cell_type": "code",
   "execution_count": 7,
   "id": "3be74c7b",
   "metadata": {},
   "outputs": [],
   "source": [
    "#splits data into test and training\n",
    "X_train, X_test, Y_train, Y_test = train_test_split(pd.Series(list(G.nodes())), pd.Series(labels), test_size=0.30, random_state=42)\n",
    "\n",
    "#oversamples cases of fraud\n",
    "X = pd.concat([X_train, Y_train], axis=1)\n",
    "\n",
    "#splits fraud and non-fraud index\n",
    "not_fraud = X[X[1]==0]\n",
    "fraud = X[X[1]==1]\n",
    "n = 1500\n",
    "\n",
    "#resamples index as needed\n",
    "fraud_upsampled = resample(fraud,replace=True, n_samples= n , random_state=42) \n",
    "\n",
    "#merges indexes\n",
    "X_up = pd.concat([not_fraud, fraud_upsampled])\n",
    "\n",
    "#changes used variables to over sampled ones\n",
    "X_train = X_up[0].copy()\n",
    "Y_train = X_up[1].copy()"
   ]
  },
  {
   "cell_type": "markdown",
   "id": "206c52d8",
   "metadata": {},
   "source": [
    "Training Model:"
   ]
  },
  {
   "cell_type": "code",
   "execution_count": 9,
   "id": "ec1763f7",
   "metadata": {},
   "outputs": [
    {
     "name": "stdout",
     "output_type": "stream",
     "text": [
      "Baseline: ROC AUC=0.500\n",
      "GNN Model: ROC AUC=0.540\n"
     ]
    },
    {
     "data": {
      "image/png": "[encoded data removed]",
      "text/plain": [
       "<Figure size 864x576 with 1 Axes>"
      ]
     },
     "metadata": {
      "needs_background": "light"
     },
     "output_type": "display_data"
    }
   ],
   "source": [
    "from sklearn import linear_model\n",
    "\n",
    "#defines model\n",
    "regr = linear_model.LinearRegression()\n",
    "\n",
    "#defines data used\n",
    "XTR = pd.DataFrame(Dataset[0].x[torch.tensor(list(X_train))[torch.index_select(Dataset[0]['mask'], 0, torch.tensor(list(X_train)))]].numpy())\n",
    "YTR = pd.DataFrame(Dataset[0].y[torch.tensor(list(X_train))[torch.index_select(Dataset[0]['mask'], 0, torch.tensor(list(X_train)))]].numpy())\n",
    "XTS = pd.DataFrame(Dataset[0].x[torch.tensor(list(X_test))[torch.index_select(Dataset[0]['mask'], 0, torch.tensor(list(X_test)))]].numpy())\n",
    "YTS = pd.DataFrame(Dataset[0].y[torch.tensor(list(X_test))[torch.index_select(Dataset[0]['mask'], 0, torch.tensor(list(X_test)))]].numpy())\n",
    "\n",
    "#trains model\n",
    "regr.fit(XTR,YTR)\n",
    "\n",
    "#tests model\n",
    "pred = regr.predict(XTS)\n",
    "\n",
    "ns_probs = [0 for _ in range(0,len(pred))]\n",
    "test = YTS\n",
    "\n",
    "# calculate AUC ROC scores\n",
    "ns_auc = roc_auc_score(test, ns_probs)\n",
    "lr_auc = roc_auc_score(test, pred)\n",
    "\n",
    "# summarize scores\n",
    "print('Baseline: ROC AUC=%.3f' % (ns_auc))\n",
    "print('GNN Model: ROC AUC=%.3f' % (lr_auc))\n",
    "\n",
    "# calculate roc curves\n",
    "ns_fpr, ns_tpr, _ = roc_curve(test, ns_probs)\n",
    "lr_fpr, lr_tpr, _ = roc_curve(test, pred)\n",
    "\n",
    "# plot the roc curve for the model\n",
    "plt.figure(figsize=(12,8))\n",
    "plt.plot(ns_fpr, ns_tpr, linestyle='--', label='Baseline')\n",
    "plt.plot(lr_fpr, lr_tpr, marker='.', label='LR Model')\n",
    "\n",
    "# axis labels\n",
    "plt.xlabel('False Positive Rate', fontsize=20)\n",
    "plt.ylabel('True Positive Rate', fontsize=20)\n",
    "plt.title('ROC Curve Plot', fontsize=24)\n",
    "\n",
    "# show the legend\n",
    "legend = plt.legend()\n",
    "plt.setp(legend.get_title(),fontsize=20)\n",
    "plt.setp(plt.gca().get_legend().get_texts(), fontsize='20')\n",
    "\n",
    "# show the plot and saves outputs\n",
    "plt.show()"
   ]
  },
  {
   "cell_type": "code",
   "execution_count": null,
   "id": "2b96260b",
   "metadata": {},
   "outputs": [],
   "source": []
  }
 ],
 "metadata": {
  "kernelspec": {
   "display_name": "Python 3",
   "language": "python",
   "name": "python3"
  },
  "language_info": {
   "codemirror_mode": {
    "name": "ipython",
    "version": 3
   },
   "file_extension": ".py",
   "mimetype": "text/x-python",
   "name": "python",
   "nbconvert_exporter": "python",
   "pygments_lexer": "ipython3",
   "version": "3.8.8"
  }
 },
 "nbformat": 4,
 "nbformat_minor": 5
}
